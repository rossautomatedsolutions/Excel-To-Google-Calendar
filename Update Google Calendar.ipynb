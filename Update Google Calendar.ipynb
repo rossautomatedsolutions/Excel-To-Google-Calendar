{
 "cells": [
  {
   "cell_type": "markdown",
   "metadata": {},
   "source": [
    "# Update Google Calendar From Excel File"
   ]
  },
  {
   "cell_type": "markdown",
   "metadata": {},
   "source": [
    "### Import & Setup"
   ]
  },
  {
   "cell_type": "code",
   "execution_count": null,
   "metadata": {},
   "outputs": [],
   "source": [
    "from apiclient.discovery import build\n",
    "from google_auth_oauthlib.flow import InstalledAppFlow\n",
    "from httplib2 import Http"
   ]
  },
  {
   "cell_type": "code",
   "execution_count": null,
   "metadata": {},
   "outputs": [],
   "source": [
    "scopes = ['https://www.googleapis.com/auth/calendar']"
   ]
  },
  {
   "cell_type": "code",
   "execution_count": null,
   "metadata": {},
   "outputs": [],
   "source": [
    "flow = InstalledAppFlow.from_client_secrets_file(\"client_secret_calendar.json\", scopes=scopes)\n",
    "credentials = flow.run_console()\n",
    "\n",
    "#log in and copy credentials\n"
   ]
  },
  {
   "cell_type": "code",
   "execution_count": null,
   "metadata": {},
   "outputs": [],
   "source": [
    "import pickle\n",
    "pickle.dump(credentials, open(\"token.pkl\", \"wb\")) \n",
    "credentials = pickle.load(open(\"token.pkl\", \"rb\"))"
   ]
  },
  {
   "cell_type": "code",
   "execution_count": null,
   "metadata": {},
   "outputs": [],
   "source": [
    "service = build(\"calendar\", \"v3\", credentials=credentials,cache_discovery=False)"
   ]
  },
  {
   "cell_type": "code",
   "execution_count": null,
   "metadata": {
    "scrolled": true
   },
   "outputs": [],
   "source": [
    "result = service.calendarList().list().execute()"
   ]
  },
  {
   "cell_type": "code",
   "execution_count": null,
   "metadata": {},
   "outputs": [],
   "source": [
    "# The calendar you want to update may be a different index\n",
    "calendar_id = result['items'][1]['id']"
   ]
  },
  {
   "cell_type": "code",
   "execution_count": null,
   "metadata": {},
   "outputs": [],
   "source": [
    "result = service.events().list(calendarId=calendar_id).execute()\n",
    "print(result['items'][0])"
   ]
  },
  {
   "cell_type": "markdown",
   "metadata": {},
   "source": [
    "### Read In Excel Source File"
   ]
  },
  {
   "cell_type": "code",
   "execution_count": null,
   "metadata": {},
   "outputs": [],
   "source": [
    "import pandas as pd\n",
    "from datetime import datetime, timedelta\n",
    "\n",
    "file_path = 'C:/Users/Jeremy_Freelance/Desktop/Plan.xlsx'\n",
    "df_calendar = pd.read_excel(file_path)\n",
    "\n",
    "# df_calendar.head()\n",
    "date = df_calendar['Date']\n",
    "general_bucket = df_calendar['General Bucket']\n",
    "start_time = df_calendar['Start Date Time']\n",
    "end_time = df_calendar['End Date Time']\n",
    "task = df_calendar['Task']"
   ]
  },
  {
   "cell_type": "markdown",
   "metadata": {},
   "source": [
    "### Function To Create Event"
   ]
  },
  {
   "cell_type": "code",
   "execution_count": null,
   "metadata": {},
   "outputs": [],
   "source": [
    "def create_event(start_date_time, end_date_time, event_title):\n",
    "    description=None\n",
    "    location=None\n",
    "    \n",
    "    event = {\n",
    "        'summary': event_title,\n",
    "        'location': location,\n",
    "        'description': description,\n",
    "        'start': {\n",
    "            'dateTime': start_date_time,\n",
    "            'timeZone': 'America/New_York',\n",
    "        },\n",
    "        'end': {\n",
    "            'dateTime': end_date_time,\n",
    "            'timeZone': 'America/New_York',\n",
    "        },\n",
    "    }\n",
    "        \n",
    "    return service.events().insert(calendarId=calendar_id, body=event,sendNotifications=True).execute()"
   ]
  },
  {
   "cell_type": "markdown",
   "metadata": {},
   "source": [
    "### We Will Now Loop Through 1 Row Of The Dataframe At A Time"
   ]
  },
  {
   "cell_type": "code",
   "execution_count": null,
   "metadata": {},
   "outputs": [],
   "source": [
    "import json\n",
    "df_test=df_calendar[['Start Date Time','End Date Time','Task']]\n",
    "df_test['Start Date Time'] = df_test['Start Date Time'].apply(lambda x: x.strftime(\"%Y-%m-%dT%H:%M:%S\"))\n",
    "df_test['End Date Time'] = df_test['End Date Time'].apply(lambda x: x.strftime(\"%Y-%m-%dT%H:%M:%S\"))\n",
    "\n",
    "start = df_test['Start Date Time']\n",
    "end = df_test['End Date Time']\n",
    "title = df_test['Task']"
   ]
  },
  {
   "cell_type": "code",
   "execution_count": null,
   "metadata": {},
   "outputs": [],
   "source": [
    "for i in range(len(df_test)) : \n",
    "    create_event(start[i],end[i],title[i])\n",
    "print(\"Completed\")"
   ]
  }
 ],
 "metadata": {
  "kernelspec": {
   "display_name": "Python 3",
   "language": "python",
   "name": "python3"
  },
  "language_info": {
   "codemirror_mode": {
    "name": "ipython",
    "version": 3
   },
   "file_extension": ".py",
   "mimetype": "text/x-python",
   "name": "python",
   "nbconvert_exporter": "python",
   "pygments_lexer": "ipython3",
   "version": "3.7.3"
  }
 },
 "nbformat": 4,
 "nbformat_minor": 4
}
